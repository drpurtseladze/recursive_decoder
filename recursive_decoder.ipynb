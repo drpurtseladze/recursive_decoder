{
 "cells": [
  {
   "cell_type": "code",
   "execution_count": 24,
   "metadata": {},
   "outputs": [],
   "source": [
    "import string\n",
    "import base64\n",
    "import pandas as pd\n",
    "import numpy as np"
   ]
  },
  {
   "cell_type": "code",
   "execution_count": 5,
   "metadata": {},
   "outputs": [],
   "source": [
    "def pad(s):\n",
    "    ans = []\n",
    "    for i in range(4):\n",
    "        t = 'b'*i + s.strip('=') \n",
    "        t1 = t + (4 - len(t)%4)*'b'\n",
    "        ans.append(t1)\n",
    "    return ans, len(t1)*3/4"
   ]
  },
  {
   "cell_type": "code",
   "execution_count": 6,
   "metadata": {},
   "outputs": [],
   "source": [
    "def max_plain(s):\n",
    "    padded_seq, length = pad(s)\n",
    "    M = 0\n",
    "    ans = None\n",
    "    for p in padded_seq:\n",
    "        r = base64.b64decode(p)\n",
    "        num_plain_chars = length - str(r).count('\\\\x')\n",
    "        if num_plain_chars>M:\n",
    "            M = num_plain_chars\n",
    "            ans = (p, r, M/length)\n",
    "    return ans"
   ]
  },
  {
   "cell_type": "code",
   "execution_count": 7,
   "metadata": {},
   "outputs": [],
   "source": [
    "def get_b64_segments(s, min_len=16):\n",
    "    b64_chars = set([c for c in string.ascii_lowercase+string.ascii_uppercase+string.digits+'/'+'+'])\n",
    "    mask = ''\n",
    "    for i in range(len(s)):\n",
    "        if s[i] in b64_chars:\n",
    "            mask=mask+s[i]\n",
    "        else:\n",
    "            mask=mask+'_'\n",
    "    ans = mask.split('_')\n",
    "    ans = [e for e in ans if len(e)>min_len]\n",
    "    return ans"
   ]
  },
  {
   "cell_type": "code",
   "execution_count": 8,
   "metadata": {},
   "outputs": [],
   "source": [
    "def batch_max_plain(list_of_strings):\n",
    "    perc=[0]\n",
    "    for el in list_of_strings:\n",
    "        perc.append(max_plain(el)[2])\n",
    "\n",
    "    return max(perc)"
   ]
  },
  {
   "cell_type": "code",
   "execution_count": 9,
   "metadata": {},
   "outputs": [],
   "source": [
    "def count_chars(s):\n",
    "    import numpy as np\n",
    "    c_u = 0\n",
    "    c_l = 0\n",
    "    c_s = 0\n",
    "    count = 0\n",
    "    for char in s:\n",
    "        if char.isupper():\n",
    "            c_u += 1\n",
    "        elif char.islower():\n",
    "            c_l+=1\n",
    "        else:\n",
    "            c_s+=1\n",
    "    l = len(s)\n",
    "    return np.array([c_u, c_l, c_s])/l"
   ]
  },
  {
   "cell_type": "code",
   "execution_count": 10,
   "metadata": {},
   "outputs": [],
   "source": [
    "def cosine_similarity(a, b):\n",
    "    return np.dot(a, b)/np.linalg.norm(a)/np.linalg.norm(b)"
   ]
  },
  {
   "cell_type": "code",
   "execution_count": 12,
   "metadata": {},
   "outputs": [],
   "source": [
    "def is_base64(s):\n",
    "    norm = np.array([0.40625, 0.40625, 0.1875])\n",
    "    if cosine_similarity(count_chars(s), norm)>0.75:\n",
    "        return True\n",
    "    return False"
   ]
  },
  {
   "cell_type": "code",
   "execution_count": 13,
   "metadata": {},
   "outputs": [],
   "source": [
    "def padded_decode(s):\n",
    "    padded_seq, length = pad(s)\n",
    "    ans = []\n",
    "    for p in padded_seq:\n",
    "        r = base64.b64decode(p)\n",
    "        num_plain_chars = length - str(r).count('\\\\x')\n",
    "        ans.append((p, r, num_plain_chars/length))\n",
    "    return ans"
   ]
  },
  {
   "cell_type": "code",
   "execution_count": 14,
   "metadata": {},
   "outputs": [],
   "source": [
    "memo=[]\n",
    "\n",
    "def recursive_decoder(list_of_strings,parent=-1, level=0, tr = 0.8, memo=[]):\n",
    "    if len(list_of_strings) ==0:\n",
    "        return False\n",
    "    if parent==-1:\n",
    "        root = True\n",
    "    else:\n",
    "        root = False\n",
    "    for ind, string in enumerate(list_of_strings):\n",
    "        for segment in get_b64_segments(string):\n",
    "            if is_base64(segment):\n",
    "                #print('BASE64 DETECTED!:', segment)\n",
    "                tmp = padded_decode(segment)\n",
    "                new_strings = []\n",
    "                if root:\n",
    "                    parent = ind\n",
    "                for t in tmp:\n",
    "                    if t[2]>tr:\n",
    "                        print('Found encoded text at level:', level)\n",
    "                        memo.append({'encoded':str(t[0]),'decoded':str(t[1]), 'plain':t[2],  'level':level, 'parent':parent})\n",
    "                    new_strings.append(str(t[1]))\n",
    "\n",
    "                    \n",
    "                recursive_decoder(list_of_strings = new_strings, parent=parent, level=level+1, tr=tr, memo = memo)\n",
    "    return memo"
   ]
  },
  {
   "cell_type": "code",
   "execution_count": 30,
   "metadata": {},
   "outputs": [],
   "source": [
    "# functions to add noise to b64 encoding\n",
    "\n",
    "def char_remove(s):\n",
    "    l = len(s)\n",
    "    ind = np.random.randint(l)\n",
    "    return s[0:ind]+s[ind+1:]\n",
    "\n",
    "\n",
    "def char_add(s):\n",
    "    l = len(s)\n",
    "    ind = np.random.randint(l)\n",
    "    chars = [c for c in string.ascii_lowercase+string.ascii_uppercase+string.digits+'/'+'+']\n",
    "    return s[0:ind]+np.random.choice(chars)+s[ind:]\n",
    "\n",
    "\n",
    "def char_replace(s):\n",
    "    l = len(s)\n",
    "    ind = np.random.randint(l)\n",
    "    chars = [c for c in string.ascii_lowercase+string.ascii_uppercase+string.digits+'/'+'+']\n",
    "    return s[0:ind]+np.random.choice(chars)+s[ind+1:]\n",
    "\n",
    "def add_noise(s, p=0.1):\n",
    "    s1 = s\n",
    "    n = int(len(s)*p)\n",
    "    actions = ['a','d', 'r']\n",
    "    for i in range(n):\n",
    "        a = np.random.choice(actions)\n",
    "        if a=='a':\n",
    "            s1 = char_add(s1)\n",
    "        if a=='d':\n",
    "            s1 = char_remove(s1)\n",
    "        else:\n",
    "            s1 = char_remove(s1)\n",
    "    return s"
   ]
  },
  {
   "cell_type": "code",
   "execution_count": 31,
   "metadata": {},
   "outputs": [],
   "source": [
    "wdal = '''In the dawn an angel was dancing\n",
    "Surrounded by an aura of light\n",
    "But in the shadows something was watching\n",
    "And with patience awaiting the night\n",
    "Angel whispers: \"Mournful night, attractive night\n",
    "Your dark beauty obsesses me\"\n",
    "An angel bewitched by the shadows\n",
    "Seduced by the whispering lies\n",
    "A spell was cast an the sky turned red\n",
    "The angel's heart froze to ice\n",
    "The blackness that falls is coming to stay\n",
    "Under the snow lies angels so cold\n",
    "Dusk has passed and a cold morning breeze\n",
    "Is sweeping all over the plain\n",
    "On the ground lies an angel with skin so pale\n",
    "On her face an image of pain\n",
    "Snow is now falling to the frozen ground\n",
    "The angel is covered by white\n",
    "Frost is spreading across the plain\n",
    "To welcome the eternal night\n",
    "The dress is white with crystals of ice\n",
    "And frozen roses so red\n",
    "Roses of blood from an innocent soul\n",
    "On the plain lies an angel dead'''"
   ]
  },
  {
   "cell_type": "code",
   "execution_count": 32,
   "metadata": {},
   "outputs": [],
   "source": [
    "wdal_enc = \"\"\"SW4gdGhlIGRhd24gYW4gYW5nZWwgd2FzIGRhbmNpbmcKU3Vycm91bmRlZCBieSBhbiBhdXJhIG9mIGxpZ2h0CkJ1dCBpbiB0aGUgc2hhZG93cyBzb21ldGhpbmcgd2FzIHdhdGNoaW5nCkFuZCB3aXRoIHBhdGllbmNlIGF3YWl0aW5nIHRoZSBuaWdodApBbmdlbCB3aGlzcGVyczogIk1vdXJuZnVsIG5pZ2h0LCBhdHRyYWN0aXZlIG5pZ2h0CllvdXIgZGFyayBiZWF1dHkgb2JzZXNzZXMgbWUiCkFuIGFuZ2VsIGJld2l0Y2hlZCBieSB0aGUgc2hhZG93cwpTZWR1Y2VkIGJ5IHRoZSB3aGlzcGVyaW5nIGxpZXMKQSBzcGVsbCB3YXMgY2FzdCBhbiB0aGUgc2t5IHR1cm5lZCByZWQKVGhlIGFuZ2VsJ3MgaGVhcnQgZnJvemUgdG8gaWNlClRoZSBibGFja25lc3MgdGhhdCBmYWxscyBpcyBjb21pbmcgdG8gc3RheQpVbmRlciB0aGUgc25vdyBsaWVzIGFuZ2VscyBzbyBjb2xkCkR1c2sgaGFzIHBhc3NlZCBhbmQgYSBjb2xkIG1vcm5pbmcgYnJlZXplCklzIHN3ZWVwaW5nIGFsbCBvdmVyIHRoZSBwbGFpbgpPbiB0aGUgZ3JvdW5kIGxpZXMgYW4gYW5nZWwgd2l0aCBza2luIHNvIHBhbGUKT24gaGVyIGZhY2UgYW4gaW1hZ2Ugb2YgcGFpbgpTbm93IGlzIG5vdyBmYWxsaW5nIHRvIHRoZSBmcm96ZW4gZ3JvdW5kClRoZSBhbmdlbCBpcyBjb3ZlcmVkIGJ5IHdoaXRlCkZyb3N0IGlzIHNwcmVhZGluZyBhY3Jvc3MgdGhlIHBsYWluClRvIHdlbGNvbWUgdGhlIGV0ZXJuYWwgbmlnaHQKVGhlIGRyZXNzIGlzIHdoaXRlIHdpdGggY3J5c3RhbHMgb2YgaWNlCkFuZCBmcm96ZW4gcm9zZXMgc28gcmVkClJvc2VzIG9mIGJsb29kIGZyb20gYW4gaW5ub2NlbnQgc291bApPbiB0aGUgcGxhaW4gbGllcyBhbiBhbmdlbCBkZWFk\"\"\""
   ]
  },
  {
   "cell_type": "code",
   "execution_count": 33,
   "metadata": {},
   "outputs": [
    {
     "name": "stdout",
     "output_type": "stream",
     "text": [
      "Found encoded text at level: 0\n"
     ]
    }
   ],
   "source": [
    "B = pd.DataFrame(recursive_decoder([wdal_enc]))"
   ]
  },
  {
   "cell_type": "code",
   "execution_count": 34,
   "metadata": {},
   "outputs": [
    {
     "name": "stdout",
     "output_type": "stream",
     "text": [
      "Found encoded text at level: 0\n"
     ]
    },
    {
     "data": {
      "text/plain": [
       "[{'encoded': 'SW4gdGhlIGRhd24gYW4gYW5nZWwgd2FzIGRhbmNpbmcKU3Vycm91bmRlZCBieSBhbiBhdXJhIG9mIGxpZ2h0CkJ1dCBpbiB0aGUgc2hhZG93cyBzb21ldGhpbmcgd2FzIHdhdGNoaW5nCkFuZCB3aXRoIHBhdGllbmNlIGF3YWl0aW5nIHRoZSBuaWdodApBbmdlbCB3aGlzcGVyczogIk1vdXJuZnVsIG5pZ2h0LCBhdHRyYWN0aXZlIG5pZ2h0CllvdXIgZGFyayBiZWF1dHkgb2JzZXNzZXMgbWUiCkFuIGFuZ2VsIGJld2l0Y2hlZCBieSB0aGUgc2hhZG93cwpTZWR1Y2VkIGJ5IHRoZSB3aGlzcGVyaW5nIGxpZXMKQSBzcGVsbCB3YXMgY2FzdCBhbiB0aGUgc2t5IHR1cm5lZCByZWQKVGhlIGFuZ2VsJ3MgaGVhcnQgZnJvemUgdG8gaWNlClRoZSBibGFja25lc3MgdGhhdCBmYWxscyBpcyBjb21pbmcgdG8gc3RheQpVbmRlciB0aGUgc25vdyBsaWVzIGFuZ2VscyBzbyBjb2xkCkR1c2sgaGFzIHBhc3NlZCBhbmQgYSBjb2xkIG1vcm5pbmcgYnJlZXplCklzIHN3ZWVwaW5nIGFsbCBvdmVyIHRoZSBwbGFpbgpPbiB0aGUgZ3JvdW5kIGxpZXMgYW4gYW5nZWwgd2l0aCBza2luIHNvIHBhbGUKT24gaGVyIGZhY2UgYW4gaW1hZ2Ugb2YgcGFpbgpTbm93IGlzIG5vdyBmYWxsaW5nIHRvIHRoZSBmcm96ZW4gZ3JvdW5kClRoZSBhbmdlbCBpcyBjb3ZlcmVkIGJ5IHdoaXRlCkZyb3N0IGlzIHNwcmVhZGluZyBhY3Jvc3MgdGhlIHBsYWluClRvIHdlbGNvbWUgdGhlIGV0ZXJuYWwgbmlnaHQKVGhlIGRyZXNzIGlzIHdoaXRlIHdpdGggY3J5c3RhbHMgb2YgaWNlCkFuZCBmcm96ZW4gcm9zZXMgc28gcmVkClJvc2VzIG9mIGJsb29kIGZyb20gYW4gaW5ub2NlbnQgc291bApPbiB0aGUgcGxhaW4gbGllcyBhbiBhbmdlbCBkZWFkbbbb',\n",
       "  'decoded': 'b\\'In the dawn an angel was dancing\\\\nSurrounded by an aura of light\\\\nBut in the shadows something was watching\\\\nAnd with patience awaiting the night\\\\nAngel whispers: \"Mournful night, attractive night\\\\nYour dark beauty obsesses me\"\\\\nAn angel bewitched by the shadows\\\\nSeduced by the whispering lies\\\\nA spell was cast an the sky turned red\\\\nThe angel\\\\\\'s heart froze to ice\\\\nThe blackness that falls is coming to stay\\\\nUnder the snow lies angels so cold\\\\nDusk has passed and a cold morning breeze\\\\nIs sweeping all over the plain\\\\nOn the ground lies an angel with skin so pale\\\\nOn her face an image of pain\\\\nSnow is now falling to the frozen ground\\\\nThe angel is covered by white\\\\nFrost is spreading across the plain\\\\nTo welcome the eternal night\\\\nThe dress is white with crystals of ice\\\\nAnd frozen roses so red\\\\nRoses of blood from an innocent soul\\\\nOn the plain lies an angel deadm\\\\xb6\\\\xdb\\'',\n",
       "  'plain': 0.9976608187134502,\n",
       "  'level': 0,\n",
       "  'parent': 0},\n",
       " {'encoded': 'SW4gdGhlIGRhd24gYW4gYW5nZWwgd2FzIGRhbmNpbmcKU3Vycm91bmRlZCBieSBhbiBhdXJhIG9mIGxpZ2h0CkJ1dCBpbiB0aGUgc2hhZG93cyBzb21ldGhpbmcgd2FzIHdhdGNoaW5nCkFuZCB3aXRoIHBhdGllbmNlIGF3YWl0aW5nIHRoZSBuaWdodApBbmdlbCB3aGlzcGVyczogIk1vdXJuZnVsIG5pZ2h0LCBhdHRyYWN0aXZlIG5pZ2h0CllvdXIgZGFyayBiZWF1dHkgb2JzZXNzZXMgbWUiCkFuIGFuZ2VsIGJld2l0Y2hlZCBieSB0aGUgc2hhZG93cwpTZWR1Y2VkIGJ5IHRoZSB3aGlzcGVyaW5nIGxpZXMKQSBzcGVsbCB3YXMgY2FzdCBhbiB0aGUgc2t5IHR1cm5lZCByZWQKVGhlIGFuZ2VsJ3MgaGVhcnQgZnJvemUgdG8gaWNlClRoZSBibGFja25lc3MgdGhhdCBmYWxscyBpcyBjb21pbmcgdG8gc3RheQpVbmRlciB0aGUgc25vdyBsaWVzIGFuZ2VscyBzbyBjb2xkCkR1c2sgaGFzIHBhc3NlZCBhbmQgYSBjb2xkIG1vcm5pbmcgYnJlZXplCklzIHN3ZWVwaW5nIGFsbCBvdmVyIHRoZSBwbGFpbgpPbiB0aGUgZ3JvdW5kIGxpZXMgYW4gYW5nZWwgd2l0aCBza2luIHNvIHBhbGUKT24gaGVyIGZhY2UgYW4gaW1hZ2Ugb2YgcGFpbgpTbm93IGlzIG5vdyBmYWxsaW5nIHRvIHRoZSBmcm96ZW4gZ3JvdW5kClRoZSBhbmdlbCBpcyBjb3ZlcmVkIGJ5IHdoaXRlCkZyb3N0IGlzIHNwcmVhZGluZyBhY3Jvc3MgdGhlIHBsYWluClRvIHdlbGNvbWUgdGhlIGV0ZXJuYWwgbmlnaHQKVGhlIGRyZXNzIGlzIHdoaXRlIHdpdGggY3J5c3RhbHMgb2YgaWNlCkFuZCBmcm96ZW4gcm9zZXMgc28gcmVkClJvc2VzIG9mIGJsb29kIGZyb20gYW4gaW5ub2NlbnQgc291bApPbiB0aGUgcGxhaW4gbGllcyBhbiBhbmdlbCBkZWFkbbbb',\n",
       "  'decoded': 'b\\'In the dawn an angel was dancing\\\\nSurrounded by an aura of light\\\\nBut in the shadows something was watching\\\\nAnd with patience awaiting the night\\\\nAngel whispers: \"Mournful night, attractive night\\\\nYour dark beauty obsesses me\"\\\\nAn angel bewitched by the shadows\\\\nSeduced by the whispering lies\\\\nA spell was cast an the sky turned red\\\\nThe angel\\\\\\'s heart froze to ice\\\\nThe blackness that falls is coming to stay\\\\nUnder the snow lies angels so cold\\\\nDusk has passed and a cold morning breeze\\\\nIs sweeping all over the plain\\\\nOn the ground lies an angel with skin so pale\\\\nOn her face an image of pain\\\\nSnow is now falling to the frozen ground\\\\nThe angel is covered by white\\\\nFrost is spreading across the plain\\\\nTo welcome the eternal night\\\\nThe dress is white with crystals of ice\\\\nAnd frozen roses so red\\\\nRoses of blood from an innocent soul\\\\nOn the plain lies an angel deadm\\\\xb6\\\\xdb\\'',\n",
       "  'plain': 0.9976608187134502,\n",
       "  'level': 0,\n",
       "  'parent': 0},\n",
       " {'encoded': 'SW4gdGhlIGRhd24gYW4gYW5nZWwgd2FzIGRhbmNpbmcKU3Vycm91bmRlZCBieSBhbiBhdXJhIG9mIGxpZ2h0CkJ1dCBpbiB0aGUgc2hhZG93cyBzb21ldGhpbmcgd2FzIHdhdGNoaW5nCkFuZCB3aXRoIHBhdGllbmNlIGF3YWl0aW5nIHRoZSBuaWdodApBbmdlbCB3aGlzcGVyczogIk1vdXJuZnVsIG5pZ2h0LCBhdHRyYWN0aXZlIG5pZ2h0CllvdXIgZGFyayBiZWF1dHkgb2JzZXNzZXMgbWUiCkFuIGFuZ2VsIGJld2l0Y2hlZCBieSB0aGUgc2hhZG93cwpTZWR1Y2VkIGJ5IHRoZSB3aGlzcGVyaW5nIGxpZXMKQSBzcGVsbCB3YXMgY2FzdCBhbiB0aGUgc2t5IHR1cm5lZCByZWQKVGhlIGFuZ2VsJ3MgaGVhcnQgZnJvemUgdG8gaWNlClRoZSBibGFja25lc3MgdGhhdCBmYWxscyBpcyBjb21pbmcgdG8gc3RheQpVbmRlciB0aGUgc25vdyBsaWVzIGFuZ2VscyBzbyBjb2xkCkR1c2sgaGFzIHBhc3NlZCBhbmQgYSBjb2xkIG1vcm5pbmcgYnJlZXplCklzIHN3ZWVwaW5nIGFsbCBvdmVyIHRoZSBwbGFpbgpPbiB0aGUgZ3JvdW5kIGxpZXMgYW4gYW5nZWwgd2l0aCBza2luIHNvIHBhbGUKT24gaGVyIGZhY2UgYW4gaW1hZ2Ugb2YgcGFpbgpTbm93IGlzIG5vdyBmYWxsaW5nIHRvIHRoZSBmcm96ZW4gZ3JvdW5kClRoZSBhbmdlbCBpcyBjb3ZlcmVkIGJ5IHdoaXRlCkZyb3N0IGlzIHNwcmVhZGluZyBhY3Jvc3MgdGhlIHBsYWluClRvIHdlbGNvbWUgdGhlIGV0ZXJuYWwgbmlnaHQKVGhlIGRyZXNzIGlzIHdoaXRlIHdpdGggY3J5c3RhbHMgb2YgaWNlCkFuZCBmcm96ZW4gcm9zZXMgc28gcmVkClJvc2VzIG9mIGJsb29kIGZyb20gYW4gaW5ub2NlbnQgc291bApPbiB0aGUgcGxhaW4gbGllcyBhbiBhbmdlbCBkZWFkbbbb',\n",
       "  'decoded': 'b\\'In the dawn an angel was dancing\\\\nSurrounded by an aura of light\\\\nBut in the shadows something was watching\\\\nAnd with patience awaiting the night\\\\nAngel whispers: \"Mournful night, attractive night\\\\nYour dark beauty obsesses me\"\\\\nAn angel bewitched by the shadows\\\\nSeduced by the whispering lies\\\\nA spell was cast an the sky turned red\\\\nThe angel\\\\\\'s heart froze to ice\\\\nThe blackness that falls is coming to stay\\\\nUnder the snow lies angels so cold\\\\nDusk has passed and a cold morning breeze\\\\nIs sweeping all over the plain\\\\nOn the ground lies an angel with skin so pale\\\\nOn her face an image of pain\\\\nSnow is now falling to the frozen ground\\\\nThe angel is covered by white\\\\nFrost is spreading across the plain\\\\nTo welcome the eternal night\\\\nThe dress is white with crystals of ice\\\\nAnd frozen roses so red\\\\nRoses of blood from an innocent soul\\\\nOn the plain lies an angel deadm\\\\xb6\\\\xdb\\'',\n",
       "  'plain': 0.9976608187134502,\n",
       "  'level': 0,\n",
       "  'parent': 0}]"
      ]
     },
     "execution_count": 34,
     "metadata": {},
     "output_type": "execute_result"
    }
   ],
   "source": [
    "recursive_decoder([add_noise(s = wdal_enc, p=0.1)])"
   ]
  },
  {
   "cell_type": "code",
   "execution_count": 35,
   "metadata": {},
   "outputs": [
    {
     "data": {
      "text/plain": [
       "'SW4gdGhlIGRhd24gYW4gYW5nZWwgd2FzIGRhbmNpbmcKU3Vycm91bmRlZCBieSBhbiBhdXJhIG9mIGxpZ2h0CkJ1dCBpbiB0aGUgc2hhZG93cyBzb21ldGhpbmcgd2FzIHdhdGNoaW5nCkFuZCB3aXRoIHBhdGllbmNlIGF3YWl0aW5nIHRoZSBuaWdodApBbmdlbCB3aGlzcGVyczogIk1vdXJuZnVsIG5pZ2h0LCBhdHRyYWN0aXZlIG5pZ2h0CllvdXIgZGFyayBiZWF1dHkgb2JzZXNzZXMgbWUiCkFuIGFuZ2VsIGJld2l0Y2hlZCBieSB0aGUgc2hhZG93cwpTZWR1Y2VkIGJ5IHRoZSB3aGlzcGVyaW5nIGxpZXMKQSBzcGVsbCB3YXMgY2FzdCBhbiB0aGUgc2t5IHR1cm5lZCByZWQKVGhlIGFuZ2VsJ3MgaGVhcnQgZnJvemUgdG8gaWNlClRoZSBibGFja25lc3MgdGhhdCBmYWxscyBpcyBjb21pbmcgdG8gc3RheQpVbmRlciB0aGUgc25vdyBsaWVzIGFuZ2VscyBzbyBjb2xkCkR1c2sgaGFzIHBhc3NlZCBhbmQgYSBjb2xkIG1vcm5pbmcgYnJlZXplCklzIHN3ZWVwaW5nIGFsbCBvdmVyIHRoZSBwbGFpbgpPbiB0aGUgZ3JvdW5kIGxpZXMgYW4gYW5nZWwgd2l0aCBza2luIHNvIHBhbGUKT24gaGVyIGZhY2UgYW4gaW1hZ2Ugb2YgcGFpbgpTbm93IGlzIG5vdyBmYWxsaW5nIHRvIHRoZSBmcm96ZW4gZ3JvdW5kClRoZSBhbmdlbCBpcyBjb3ZlcmVkIGJ5IHdoaXRlCkZyb3N0IGlzIHNwcmVhZGluZyBhY3Jvc3MgdGhlIHBsYWluClRvIHdlbGNvbWUgdGhlIGV0ZXJuYWwgbmlnaHQKVGhlIGRyZXNzIGlzIHdoaXRlIHdpdGggY3J5c3RhbHMgb2YgaWNlCkFuZCBmcm96ZW4gcm9zZXMgc28gcmVkClJvc2VzIG9mIGJsb29kIGZyb20gYW4gaW5ub2NlbnQgc291bApPbiB0aGUgcGxhaW4gbGllcyBhbiBhbmdlbCBkZWFk'"
      ]
     },
     "execution_count": 35,
     "metadata": {},
     "output_type": "execute_result"
    }
   ],
   "source": [
    "add_noise(s = wdal_enc, p=0.1)"
   ]
  },
  {
   "cell_type": "code",
   "execution_count": 36,
   "metadata": {},
   "outputs": [
    {
     "data": {
      "text/plain": [
       "'SW4gdGhlIGRhd24gYW4gYW5nZWwgd2FzIGRhbmNpbmcKU3Vycm91bmRlZCBieSBhbiBhdXJhIG9mIGxpZ2h0CkJ1dCBpbiB0aGUgc2hhZG93cyBzb21ldGhpbmcgd2FzIHdhdGNoaW5nCkFuZCB3aXRoIHBhdGllbmNlIGF3YWl0aW5nIHRoZSBuaWdodApBbmdlbCB3aGlzcGVyczogIk1vdXJuZnVsIG5pZ2h0LCBhdHRyYWN0aXZlIG5pZ2h0CllvdXIgZGFyayBiZWF1dHkgb2JzZXNzZXMgbWUiCkFuIGFuZ2VsIGJld2l0Y2hlZCBieSB0aGUgc2hhZG93cwpTZWR1Y2VkIGJ5IHRoZSB3aGlzcGVyaW5nIGxpZXMKQSBzcGVsbCB3YXMgY2FzdCBhbiB0aGUgc2t5IHR1cm5lZCByZWQKVGhlIGFuZ2VsJ3MgaGVhcnQgZnJvemUgdG8gaWNlClRoZSBibGFja25lc3MgdGhhdCBmYWxscyBpcyBjb21pbmcgdG8gc3RheQpVbmRlciB0aGUgc25vdyBsaWVzIGFuZ2VscyBzbyBjb2xkCkR1c2sgaGFzIHBhc3NlZCBhbmQgYSBjb2xkIG1vcm5pbmcgYnJlZXplCklzIHN3ZWVwaW5nIGFsbCBvdmVyIHRoZSBwbGFpbgpPbiB0aGUgZ3JvdW5kIGxpZXMgYW4gYW5nZWwgd2l0aCBza2luIHNvIHBhbGUKT24gaGVyIGZhY2UgYW4gaW1hZ2Ugb2YgcGFpbgpTbm93IGlzIG5vdyBmYWxsaW5nIHRvIHRoZSBmcm96ZW4gZ3JvdW5kClRoZSBhbmdlbCBpcyBjb3ZlcmVkIGJ5IHdoaXRlCkZyb3N0IGlzIHNwcmVhZGluZyBhY3Jvc3MgdGhlIHBsYWluClRvIHdlbGNvbWUgdGhlIGV0ZXJuYWwgbmlnaHQKVGhlIGRyZXNzIGlzIHdoaXRlIHdpdGggY3J5c3RhbHMgb2YgaWNlCkFuZCBmcm96ZW4gcm9zZXMgc28gcmVkClJvc2VzIG9mIGJsb29kIGZyb20gYW4gaW5ub2NlbnQgc291bApPbiB0aGUgcGxhaW4gbGllcyBhbiBhbmdlbCBkZWFk'"
      ]
     },
     "execution_count": 36,
     "metadata": {},
     "output_type": "execute_result"
    }
   ],
   "source": [
    "add_noise(s = wdal_enc, p=0.1)"
   ]
  },
  {
   "cell_type": "code",
   "execution_count": 37,
   "metadata": {},
   "outputs": [],
   "source": [
    "wdal_noisy_enc='''U1c0Z2RHaGxJR1JoZDI0Z1lXNGdZVzVuWld3Z2QyRnpJR1JoYm1OcGJtY0tVM1Z5Y205MWJtUmxaQ0JpZVNCaGJpQmhkWEpoSUc5bUlHeHBaMmgwQ2tKMWRDQnBiaUIwYUdVZ2MyaGhaRzkzY3lCemIyMWxkR2hwYm1jZ2QyRnpJSGRoZEdOb2FXNW5Da0Z1WkNCM2FYUm9JSEJoZEdsbGJtTmxJR0YzWVdsMGFXNW5JSFJvWlNCdWFXZG9kQXBCYm1kbGJDQjNhR2x6Y0dWeWN6b2dJazF2ZFhKdVpuVnNJRzVwWjJoMExDQmhkSFJ5WVdOMGFYWmxJRzVwWjJoMENsbHZkWElnWkdGeWF5QmlaV0YxZEhrZ2IySnpaWE56WlhNZ2JXVWlDa0Z1SUdGdVoyVnNJR0psZDJsMFkyaGxaQ0JpZVNCMGFHVWdjMmhoWkc5M2N3cFRaV1IxWTJWa0lHSjVJSFJvWlNCM2FHbHpjR1Z5YVc1bklHeHBaWE1LUVNCemNHVnNiQ0IzWVhNZ1kyRnpkQ0JoYmlCMGFHVWdjMnQ1SUhSMWNtNWxaQ0J5WldRS1ZHaGxJR0Z1WjJWc0ozTWdhR1ZoY25RZ1puSnZlbVVnZEc4Z2FXTmxDbFJvWlNCaWJHRmphMjVsYzNNZ2RHaGhkQ0JtWVd4c2N5QnBjeUJqYjIxcGJtY2dkRzhnYzNSaGVRcFZibVJsY2lCMGFHVWdjMjV2ZHlCc2FXVnpJR0Z1WjJWc2N5QnpieUJqYjJ4a0NrUjFjMnNnYUdGeklIQmhjM05sWkNCaGJtUWdZU0JqYjJ4a0lHMXZjbTVwYm1jZ1luSmxaWHBsQ2tseklITjNaV1Z3YVc1bklHRnNiQ0J2ZG1WeUlIUm9aU0J3YkdGcGJncFBiaUIwYUdVZ1ozSnZkVzVrSUd4cFpYTWdZVzRnWVc1blpXd2dkMmwwYUNCemEybHVJSE52SUhCaGJHVUtUMjRnYUdWeUlHWmhZMlVnWVc0Z2FXMWhaMlVnYjJZZ2NHRnBiZ3BUYm05M0lHbHpJRzV2ZHlCbVlXeHNhVzVuSUhSdklIUm9aU0JtY205NlpXNGdaM0p2ZFc1a0NsUm9aU0JoYm1kbGJDQnBjeUJqYjNabGNtVmtJR0o1SUhkb2FYUmxDa1p5YjNOMElHbHpJSE53Y21WaFpHbHVaeUJoWTNKdmMzTWdkR2hsSUhCc1lXbHVDbFJ2SUhkbGJHTnZiV1VnZEdobElHVjBaWEp1WVd3Z2JtbG5hSFFLVkdobElHUnlaWE56SUdseklIZG9hWFJsSUhkcGRHZ2dZM0o1YzNSaGJITWdiMllnYVdObENrRnVaQ0JtY205NlpXNGdjbTl6WlhNZ2MyOGdjbVZrQ2xKdmMyVnpJRzltSUdKc2IyOWtJR1p5YjIwZ1lXNGdhVzV1YjJObGJuUWdjMjkxYkFwUGJpQjBhR1VnY0d4aGFXNGdiR2xsY3lCaGJpQmhibWRsYkNCa1pXRms='''"
   ]
  },
  {
   "cell_type": "code",
   "execution_count": 38,
   "metadata": {},
   "outputs": [
    {
     "name": "stdout",
     "output_type": "stream",
     "text": [
      "Found encoded text at level: 0\n",
      "Found encoded text at level: 1\n"
     ]
    },
    {
     "data": {
      "text/plain": [
       "[{'encoded': 'SW4gdGhlIGRhd24gYW4gYW5nZWwgd2FzIGRhbmNpbmcKU3Vycm91bmRlZCBieSBhbiBhdXJhIG9mIGxpZ2h0CkJ1dCBpbiB0aGUgc2hhZG93cyBzb21ldGhpbmcgd2FzIHdhdGNoaW5nCkFuZCB3aXRoIHBhdGllbmNlIGF3YWl0aW5nIHRoZSBuaWdodApBbmdlbCB3aGlzcGVyczogIk1vdXJuZnVsIG5pZ2h0LCBhdHRyYWN0aXZlIG5pZ2h0CllvdXIgZGFyayBiZWF1dHkgb2JzZXNzZXMgbWUiCkFuIGFuZ2VsIGJld2l0Y2hlZCBieSB0aGUgc2hhZG93cwpTZWR1Y2VkIGJ5IHRoZSB3aGlzcGVyaW5nIGxpZXMKQSBzcGVsbCB3YXMgY2FzdCBhbiB0aGUgc2t5IHR1cm5lZCByZWQKVGhlIGFuZ2VsJ3MgaGVhcnQgZnJvemUgdG8gaWNlClRoZSBibGFja25lc3MgdGhhdCBmYWxscyBpcyBjb21pbmcgdG8gc3RheQpVbmRlciB0aGUgc25vdyBsaWVzIGFuZ2VscyBzbyBjb2xkCkR1c2sgaGFzIHBhc3NlZCBhbmQgYSBjb2xkIG1vcm5pbmcgYnJlZXplCklzIHN3ZWVwaW5nIGFsbCBvdmVyIHRoZSBwbGFpbgpPbiB0aGUgZ3JvdW5kIGxpZXMgYW4gYW5nZWwgd2l0aCBza2luIHNvIHBhbGUKT24gaGVyIGZhY2UgYW4gaW1hZ2Ugb2YgcGFpbgpTbm93IGlzIG5vdyBmYWxsaW5nIHRvIHRoZSBmcm96ZW4gZ3JvdW5kClRoZSBhbmdlbCBpcyBjb3ZlcmVkIGJ5IHdoaXRlCkZyb3N0IGlzIHNwcmVhZGluZyBhY3Jvc3MgdGhlIHBsYWluClRvIHdlbGNvbWUgdGhlIGV0ZXJuYWwgbmlnaHQKVGhlIGRyZXNzIGlzIHdoaXRlIHdpdGggY3J5c3RhbHMgb2YgaWNlCkFuZCBmcm96ZW4gcm9zZXMgc28gcmVkClJvc2VzIG9mIGJsb29kIGZyb20gYW4gaW5ub2NlbnQgc291bApPbiB0aGUgcGxhaW4gbGllcyBhbiBhbmdlbCBkZWFkbbbb',\n",
       "  'decoded': 'b\\'In the dawn an angel was dancing\\\\nSurrounded by an aura of light\\\\nBut in the shadows something was watching\\\\nAnd with patience awaiting the night\\\\nAngel whispers: \"Mournful night, attractive night\\\\nYour dark beauty obsesses me\"\\\\nAn angel bewitched by the shadows\\\\nSeduced by the whispering lies\\\\nA spell was cast an the sky turned red\\\\nThe angel\\\\\\'s heart froze to ice\\\\nThe blackness that falls is coming to stay\\\\nUnder the snow lies angels so cold\\\\nDusk has passed and a cold morning breeze\\\\nIs sweeping all over the plain\\\\nOn the ground lies an angel with skin so pale\\\\nOn her face an image of pain\\\\nSnow is now falling to the frozen ground\\\\nThe angel is covered by white\\\\nFrost is spreading across the plain\\\\nTo welcome the eternal night\\\\nThe dress is white with crystals of ice\\\\nAnd frozen roses so red\\\\nRoses of blood from an innocent soul\\\\nOn the plain lies an angel deadm\\\\xb6\\\\xdb\\'',\n",
       "  'plain': 0.9976608187134502,\n",
       "  'level': 0,\n",
       "  'parent': 0},\n",
       " {'encoded': 'SW4gdGhlIGRhd24gYW4gYW5nZWwgd2FzIGRhbmNpbmcKU3Vycm91bmRlZCBieSBhbiBhdXJhIG9mIGxpZ2h0CkJ1dCBpbiB0aGUgc2hhZG93cyBzb21ldGhpbmcgd2FzIHdhdGNoaW5nCkFuZCB3aXRoIHBhdGllbmNlIGF3YWl0aW5nIHRoZSBuaWdodApBbmdlbCB3aGlzcGVyczogIk1vdXJuZnVsIG5pZ2h0LCBhdHRyYWN0aXZlIG5pZ2h0CllvdXIgZGFyayBiZWF1dHkgb2JzZXNzZXMgbWUiCkFuIGFuZ2VsIGJld2l0Y2hlZCBieSB0aGUgc2hhZG93cwpTZWR1Y2VkIGJ5IHRoZSB3aGlzcGVyaW5nIGxpZXMKQSBzcGVsbCB3YXMgY2FzdCBhbiB0aGUgc2t5IHR1cm5lZCByZWQKVGhlIGFuZ2VsJ3MgaGVhcnQgZnJvemUgdG8gaWNlClRoZSBibGFja25lc3MgdGhhdCBmYWxscyBpcyBjb21pbmcgdG8gc3RheQpVbmRlciB0aGUgc25vdyBsaWVzIGFuZ2VscyBzbyBjb2xkCkR1c2sgaGFzIHBhc3NlZCBhbmQgYSBjb2xkIG1vcm5pbmcgYnJlZXplCklzIHN3ZWVwaW5nIGFsbCBvdmVyIHRoZSBwbGFpbgpPbiB0aGUgZ3JvdW5kIGxpZXMgYW4gYW5nZWwgd2l0aCBza2luIHNvIHBhbGUKT24gaGVyIGZhY2UgYW4gaW1hZ2Ugb2YgcGFpbgpTbm93IGlzIG5vdyBmYWxsaW5nIHRvIHRoZSBmcm96ZW4gZ3JvdW5kClRoZSBhbmdlbCBpcyBjb3ZlcmVkIGJ5IHdoaXRlCkZyb3N0IGlzIHNwcmVhZGluZyBhY3Jvc3MgdGhlIHBsYWluClRvIHdlbGNvbWUgdGhlIGV0ZXJuYWwgbmlnaHQKVGhlIGRyZXNzIGlzIHdoaXRlIHdpdGggY3J5c3RhbHMgb2YgaWNlCkFuZCBmcm96ZW4gcm9zZXMgc28gcmVkClJvc2VzIG9mIGJsb29kIGZyb20gYW4gaW5ub2NlbnQgc291bApPbiB0aGUgcGxhaW4gbGllcyBhbiBhbmdlbCBkZWFkbbbb',\n",
       "  'decoded': 'b\\'In the dawn an angel was dancing\\\\nSurrounded by an aura of light\\\\nBut in the shadows something was watching\\\\nAnd with patience awaiting the night\\\\nAngel whispers: \"Mournful night, attractive night\\\\nYour dark beauty obsesses me\"\\\\nAn angel bewitched by the shadows\\\\nSeduced by the whispering lies\\\\nA spell was cast an the sky turned red\\\\nThe angel\\\\\\'s heart froze to ice\\\\nThe blackness that falls is coming to stay\\\\nUnder the snow lies angels so cold\\\\nDusk has passed and a cold morning breeze\\\\nIs sweeping all over the plain\\\\nOn the ground lies an angel with skin so pale\\\\nOn her face an image of pain\\\\nSnow is now falling to the frozen ground\\\\nThe angel is covered by white\\\\nFrost is spreading across the plain\\\\nTo welcome the eternal night\\\\nThe dress is white with crystals of ice\\\\nAnd frozen roses so red\\\\nRoses of blood from an innocent soul\\\\nOn the plain lies an angel deadm\\\\xb6\\\\xdb\\'',\n",
       "  'plain': 0.9976608187134502,\n",
       "  'level': 0,\n",
       "  'parent': 0},\n",
       " {'encoded': 'SW4gdGhlIGRhd24gYW4gYW5nZWwgd2FzIGRhbmNpbmcKU3Vycm91bmRlZCBieSBhbiBhdXJhIG9mIGxpZ2h0CkJ1dCBpbiB0aGUgc2hhZG93cyBzb21ldGhpbmcgd2FzIHdhdGNoaW5nCkFuZCB3aXRoIHBhdGllbmNlIGF3YWl0aW5nIHRoZSBuaWdodApBbmdlbCB3aGlzcGVyczogIk1vdXJuZnVsIG5pZ2h0LCBhdHRyYWN0aXZlIG5pZ2h0CllvdXIgZGFyayBiZWF1dHkgb2JzZXNzZXMgbWUiCkFuIGFuZ2VsIGJld2l0Y2hlZCBieSB0aGUgc2hhZG93cwpTZWR1Y2VkIGJ5IHRoZSB3aGlzcGVyaW5nIGxpZXMKQSBzcGVsbCB3YXMgY2FzdCBhbiB0aGUgc2t5IHR1cm5lZCByZWQKVGhlIGFuZ2VsJ3MgaGVhcnQgZnJvemUgdG8gaWNlClRoZSBibGFja25lc3MgdGhhdCBmYWxscyBpcyBjb21pbmcgdG8gc3RheQpVbmRlciB0aGUgc25vdyBsaWVzIGFuZ2VscyBzbyBjb2xkCkR1c2sgaGFzIHBhc3NlZCBhbmQgYSBjb2xkIG1vcm5pbmcgYnJlZXplCklzIHN3ZWVwaW5nIGFsbCBvdmVyIHRoZSBwbGFpbgpPbiB0aGUgZ3JvdW5kIGxpZXMgYW4gYW5nZWwgd2l0aCBza2luIHNvIHBhbGUKT24gaGVyIGZhY2UgYW4gaW1hZ2Ugb2YgcGFpbgpTbm93IGlzIG5vdyBmYWxsaW5nIHRvIHRoZSBmcm96ZW4gZ3JvdW5kClRoZSBhbmdlbCBpcyBjb3ZlcmVkIGJ5IHdoaXRlCkZyb3N0IGlzIHNwcmVhZGluZyBhY3Jvc3MgdGhlIHBsYWluClRvIHdlbGNvbWUgdGhlIGV0ZXJuYWwgbmlnaHQKVGhlIGRyZXNzIGlzIHdoaXRlIHdpdGggY3J5c3RhbHMgb2YgaWNlCkFuZCBmcm96ZW4gcm9zZXMgc28gcmVkClJvc2VzIG9mIGJsb29kIGZyb20gYW4gaW5ub2NlbnQgc291bApPbiB0aGUgcGxhaW4gbGllcyBhbiBhbmdlbCBkZWFkbbbb',\n",
       "  'decoded': 'b\\'In the dawn an angel was dancing\\\\nSurrounded by an aura of light\\\\nBut in the shadows something was watching\\\\nAnd with patience awaiting the night\\\\nAngel whispers: \"Mournful night, attractive night\\\\nYour dark beauty obsesses me\"\\\\nAn angel bewitched by the shadows\\\\nSeduced by the whispering lies\\\\nA spell was cast an the sky turned red\\\\nThe angel\\\\\\'s heart froze to ice\\\\nThe blackness that falls is coming to stay\\\\nUnder the snow lies angels so cold\\\\nDusk has passed and a cold morning breeze\\\\nIs sweeping all over the plain\\\\nOn the ground lies an angel with skin so pale\\\\nOn her face an image of pain\\\\nSnow is now falling to the frozen ground\\\\nThe angel is covered by white\\\\nFrost is spreading across the plain\\\\nTo welcome the eternal night\\\\nThe dress is white with crystals of ice\\\\nAnd frozen roses so red\\\\nRoses of blood from an innocent soul\\\\nOn the plain lies an angel deadm\\\\xb6\\\\xdb\\'',\n",
       "  'plain': 0.9976608187134502,\n",
       "  'level': 0,\n",
       "  'parent': 0},\n",
       " {'encoded': 'U1c0Z2RHaGxJR1JoZDI0Z1lXNGdZVzVuWld3Z2QyRnpJR1JoYm1OcGJtY0tVM1Z5Y205MWJtUmxaQ0JpZVNCaGJpQmhkWEpoSUc5bUlHeHBaMmgwQ2tKMWRDQnBiaUIwYUdVZ2MyaGhaRzkzY3lCemIyMWxkR2hwYm1jZ2QyRnpJSGRoZEdOb2FXNW5Da0Z1WkNCM2FYUm9JSEJoZEdsbGJtTmxJR0YzWVdsMGFXNW5JSFJvWlNCdWFXZG9kQXBCYm1kbGJDQjNhR2x6Y0dWeWN6b2dJazF2ZFhKdVpuVnNJRzVwWjJoMExDQmhkSFJ5WVdOMGFYWmxJRzVwWjJoMENsbHZkWElnWkdGeWF5QmlaV0YxZEhrZ2IySnpaWE56WlhNZ2JXVWlDa0Z1SUdGdVoyVnNJR0psZDJsMFkyaGxaQ0JpZVNCMGFHVWdjMmhoWkc5M2N3cFRaV1IxWTJWa0lHSjVJSFJvWlNCM2FHbHpjR1Z5YVc1bklHeHBaWE1LUVNCemNHVnNiQ0IzWVhNZ1kyRnpkQ0JoYmlCMGFHVWdjMnQ1SUhSMWNtNWxaQ0J5WldRS1ZHaGxJR0Z1WjJWc0ozTWdhR1ZoY25RZ1puSnZlbVVnZEc4Z2FXTmxDbFJvWlNCaWJHRmphMjVsYzNNZ2RHaGhkQ0JtWVd4c2N5QnBjeUJqYjIxcGJtY2dkRzhnYzNSaGVRcFZibVJsY2lCMGFHVWdjMjV2ZHlCc2FXVnpJR0Z1WjJWc2N5QnpieUJqYjJ4a0NrUjFjMnNnYUdGeklIQmhjM05sWkNCaGJtUWdZU0JqYjJ4a0lHMXZjbTVwYm1jZ1luSmxaWHBsQ2tseklITjNaV1Z3YVc1bklHRnNiQ0J2ZG1WeUlIUm9aU0J3YkdGcGJncFBiaUIwYUdVZ1ozSnZkVzVrSUd4cFpYTWdZVzRnWVc1blpXd2dkMmwwYUNCemEybHVJSE52SUhCaGJHVUtUMjRnYUdWeUlHWmhZMlVnWVc0Z2FXMWhaMlVnYjJZZ2NHRnBiZ3BUYm05M0lHbHpJRzV2ZHlCbVlXeHNhVzVuSUhSdklIUm9aU0JtY205NlpXNGdaM0p2ZFc1a0NsUm9aU0JoYm1kbGJDQnBjeUJqYjNabGNtVmtJR0o1SUhkb2FYUmxDa1p5YjNOMElHbHpJSE53Y21WaFpHbHVaeUJoWTNKdmMzTWdkR2hsSUhCc1lXbHVDbFJ2SUhkbGJHTnZiV1VnZEdobElHVjBaWEp1WVd3Z2JtbG5hSFFLVkdobElHUnlaWE56SUdseklIZG9hWFJsSUhkcGRHZ2dZM0o1YzNSaGJITWdiMllnYVdObENrRnVaQ0JtY205NlpXNGdjbTl6WlhNZ2MyOGdjbVZrQ2xKdmMyVnpJRzltSUdKc2IyOWtJR1p5YjIwZ1lXNGdhVzV1YjJObGJuUWdjMjkxYkFwUGJpQjBhR1VnY0d4aGFXNGdiR2xsY3lCaGJpQmhibWRsYkNCa1pXRmsb',\n",
       "  'decoded': \"b'SW4gdGhlIGRhd24gYW4gYW5nZWwgd2FzIGRhbmNpbmcKU3Vycm91bmRlZCBieSBhbiBhdXJhIG9mIGxpZ2h0CkJ1dCBpbiB0aGUgc2hhZG93cyBzb21ldGhpbmcgd2FzIHdhdGNoaW5nCkFuZCB3aXRoIHBhdGllbmNlIGF3YWl0aW5nIHRoZSBuaWdodApBbmdlbCB3aGlzcGVyczogIk1vdXJuZnVsIG5pZ2h0LCBhdHRyYWN0aXZlIG5pZ2h0CllvdXIgZGFyayBiZWF1dHkgb2JzZXNzZXMgbWUiCkFuIGFuZ2VsIGJld2l0Y2hlZCBieSB0aGUgc2hhZG93cwpTZWR1Y2VkIGJ5IHRoZSB3aGlzcGVyaW5nIGxpZXMKQSBzcGVsbCB3YXMgY2FzdCBhbiB0aGUgc2t5IHR1cm5lZCByZWQKVGhlIGFuZ2VsJ3MgaGVhcnQgZnJvemUgdG8gaWNlClRoZSBibGFja25lc3MgdGhhdCBmYWxscyBpcyBjb21pbmcgdG8gc3RheQpVbmRlciB0aGUgc25vdyBsaWVzIGFuZ2VscyBzbyBjb2xkCkR1c2sgaGFzIHBhc3NlZCBhbmQgYSBjb2xkIG1vcm5pbmcgYnJlZXplCklzIHN3ZWVwaW5nIGFsbCBvdmVyIHRoZSBwbGFpbgpPbiB0aGUgZ3JvdW5kIGxpZXMgYW4gYW5nZWwgd2l0aCBza2luIHNvIHBhbGUKT24gaGVyIGZhY2UgYW4gaW1hZ2Ugb2YgcGFpbgpTbm93IGlzIG5vdyBmYWxsaW5nIHRvIHRoZSBmcm96ZW4gZ3JvdW5kClRoZSBhbmdlbCBpcyBjb3ZlcmVkIGJ5IHdoaXRlCkZyb3N0IGlzIHNwcmVhZGluZyBhY3Jvc3MgdGhlIHBsYWluClRvIHdlbGNvbWUgdGhlIGV0ZXJuYWwgbmlnaHQKVGhlIGRyZXNzIGlzIHdoaXRlIHdpdGggY3J5c3RhbHMgb2YgaWNlCkFuZCBmcm96ZW4gcm9zZXMgc28gcmVkClJvc2VzIG9mIGJsb29kIGZyb20gYW4gaW5ub2NlbnQgc291bApPbiB0aGUgcGxhaW4gbGllcyBhbiBhbmdlbCBkZWFk\\\\x1b'\",\n",
       "  'plain': 0.9991228070175439,\n",
       "  'level': 0,\n",
       "  'parent': 0},\n",
       " {'encoded': 'SW4gdGhlIGRhd24gYW4gYW5nZWwgd2FzIGRhbmNpbmcKU3Vycm91bmRlZCBieSBhbiBhdXJhIG9mIGxpZ2h0CkJ1dCBpbiB0aGUgc2hhZG93cyBzb21ldGhpbmcgd2FzIHdhdGNoaW5nCkFuZCB3aXRoIHBhdGllbmNlIGF3YWl0aW5nIHRoZSBuaWdodApBbmdlbCB3aGlzcGVyczogIk1vdXJuZnVsIG5pZ2h0LCBhdHRyYWN0aXZlIG5pZ2h0CllvdXIgZGFyayBiZWF1dHkgb2JzZXNzZXMgbWUiCkFuIGFuZ2VsIGJld2l0Y2hlZCBieSB0aGUgc2hhZG93cwpTZWR1Y2VkIGJ5IHRoZSB3aGlzcGVyaW5nIGxpZXMKQSBzcGVsbCB3YXMgY2FzdCBhbiB0aGUgc2t5IHR1cm5lZCByZWQKVGhlIGFuZ2VsJ3MgaGVhcnQgZnJvemUgdG8gaWNlClRoZSBibGFja25lc3MgdGhhdCBmYWxscyBpcyBjb21pbmcgdG8gc3RheQpVbmRlciB0aGUgc25vdyBsaWVzIGFuZ2VscyBzbyBjb2xkCkR1c2sgaGFzIHBhc3NlZCBhbmQgYSBjb2xkIG1vcm5pbmcgYnJlZXplCklzIHN3ZWVwaW5nIGFsbCBvdmVyIHRoZSBwbGFpbgpPbiB0aGUgZ3JvdW5kIGxpZXMgYW4gYW5nZWwgd2l0aCBza2luIHNvIHBhbGUKT24gaGVyIGZhY2UgYW4gaW1hZ2Ugb2YgcGFpbgpTbm93IGlzIG5vdyBmYWxsaW5nIHRvIHRoZSBmcm96ZW4gZ3JvdW5kClRoZSBhbmdlbCBpcyBjb3ZlcmVkIGJ5IHdoaXRlCkZyb3N0IGlzIHNwcmVhZGluZyBhY3Jvc3MgdGhlIHBsYWluClRvIHdlbGNvbWUgdGhlIGV0ZXJuYWwgbmlnaHQKVGhlIGRyZXNzIGlzIHdoaXRlIHdpdGggY3J5c3RhbHMgb2YgaWNlCkFuZCBmcm96ZW4gcm9zZXMgc28gcmVkClJvc2VzIG9mIGJsb29kIGZyb20gYW4gaW5ub2NlbnQgc291bApPbiB0aGUgcGxhaW4gbGllcyBhbiBhbmdlbCBkZWFkbbbb',\n",
       "  'decoded': 'b\\'In the dawn an angel was dancing\\\\nSurrounded by an aura of light\\\\nBut in the shadows something was watching\\\\nAnd with patience awaiting the night\\\\nAngel whispers: \"Mournful night, attractive night\\\\nYour dark beauty obsesses me\"\\\\nAn angel bewitched by the shadows\\\\nSeduced by the whispering lies\\\\nA spell was cast an the sky turned red\\\\nThe angel\\\\\\'s heart froze to ice\\\\nThe blackness that falls is coming to stay\\\\nUnder the snow lies angels so cold\\\\nDusk has passed and a cold morning breeze\\\\nIs sweeping all over the plain\\\\nOn the ground lies an angel with skin so pale\\\\nOn her face an image of pain\\\\nSnow is now falling to the frozen ground\\\\nThe angel is covered by white\\\\nFrost is spreading across the plain\\\\nTo welcome the eternal night\\\\nThe dress is white with crystals of ice\\\\nAnd frozen roses so red\\\\nRoses of blood from an innocent soul\\\\nOn the plain lies an angel deadm\\\\xb6\\\\xdb\\'',\n",
       "  'plain': 0.9976608187134502,\n",
       "  'level': 1,\n",
       "  'parent': 0}]"
      ]
     },
     "execution_count": 38,
     "metadata": {},
     "output_type": "execute_result"
    }
   ],
   "source": [
    "recursive_decoder([add_noise(s=wdal_noisy_enc, p=0.1)])"
   ]
  },
  {
   "cell_type": "code",
   "execution_count": null,
   "metadata": {},
   "outputs": [],
   "source": []
  },
  {
   "cell_type": "code",
   "execution_count": null,
   "metadata": {},
   "outputs": [],
   "source": []
  }
 ],
 "metadata": {
  "kernelspec": {
   "display_name": "Python 3 (ipykernel)",
   "language": "python",
   "name": "python3"
  },
  "language_info": {
   "codemirror_mode": {
    "name": "ipython",
    "version": 3
   },
   "file_extension": ".py",
   "mimetype": "text/x-python",
   "name": "python",
   "nbconvert_exporter": "python",
   "pygments_lexer": "ipython3",
   "version": "3.9.12"
  }
 },
 "nbformat": 4,
 "nbformat_minor": 4
}
